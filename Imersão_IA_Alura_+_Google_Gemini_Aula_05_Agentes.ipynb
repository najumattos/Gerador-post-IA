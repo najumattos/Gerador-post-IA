{
  "nbformat": 4,
  "nbformat_minor": 0,
  "metadata": {
    "colab": {
      "provenance": [],
      "include_colab_link": true
    },
    "kernelspec": {
      "name": "python3",
      "display_name": "Python 3"
    },
    "language_info": {
      "name": "python"
    }
  },
  "cells": [
    {
      "cell_type": "markdown",
      "metadata": {
        "id": "view-in-github",
        "colab_type": "text"
      },
      "source": [
        "<a href=\"https://colab.research.google.com/github/najumattos/Gerador-post-IA/blob/main/Imers%C3%A3o_IA_Alura_%2B_Google_Gemini_Aula_05_Agentes.ipynb\" target=\"_parent\"><img src=\"https://colab.research.google.com/assets/colab-badge.svg\" alt=\"Open In Colab\"/></a>"
      ]
    },
    {
      "cell_type": "code",
      "source": [
        "%pip -q install google-genai"
      ],
      "metadata": {
        "id": "UCCbECexLk_h"
      },
      "execution_count": 46,
      "outputs": []
    },
    {
      "cell_type": "code",
      "source": [
        "# Configura a API Key do Google Gemini\n",
        "\n",
        "import os\n",
        "from google.colab import userdata\n",
        "#variavel de ambiente que pega a APIKEY do segredo\n",
        "os.environ[\"GOOGLE_API_KEY\"] = userdata.get('GOOGLE_API_KEY')"
      ],
      "metadata": {
        "id": "NfCqHo1tLk8P"
      },
      "execution_count": 47,
      "outputs": []
    },
    {
      "cell_type": "code",
      "source": [
        "# Configura o cliente da SDK do Gemini\n",
        "\n",
        "from google import genai\n",
        "\n",
        "client = genai.Client()\n",
        "\n",
        "MODEL_ID = \"gemini-2.0-flash\""
      ],
      "metadata": {
        "id": "bV4w0H5TLk5g"
      },
      "execution_count": 48,
      "outputs": []
    },
    {
      "cell_type": "code",
      "source": [
        "#Somente com base no conhecimento que o modelo possui\n",
        "# Pergunta ao Gemini uma informação mais recente que seu conhecimento\n",
        "\n",
        "\n",
        "from IPython.display import HTML, Markdown\n",
        "\n",
        "# Perguntar pro modelo quando é a próxima imersão de IA ###############################################\n",
        "resposta = client.models.generate_content(\n",
        "    model = MODEL_ID,\n",
        "    contents = 'Quando é a próxima imersão IA com Google Gemini da Alura?'\n",
        ")\n",
        "\n",
        "# Exibe a resposta na tela\n",
        "display(Markdown(f\"Resposta:\\n {resposta.text}\"))"
      ],
      "metadata": {
        "id": "HwVP7Xi34Zuw",
        "colab": {
          "base_uri": "https://localhost:8080/",
          "height": 110
        },
        "outputId": "8566fd53-3493-477d-9382-a73bc395a574"
      },
      "execution_count": 49,
      "outputs": [
        {
          "output_type": "display_data",
          "data": {
            "text/plain": [
              "<IPython.core.display.Markdown object>"
            ],
            "text/markdown": "Resposta:\n A Alura não tem uma \"Imersão IA com Google Gemini\" agendada no momento. Para saber sobre os próximos cursos e imersões da Alura, incluindo os relacionados a IA e Google Gemini, a melhor forma é verificar diretamente no site oficial da Alura:\n\n*   **Site da Alura:** [https://www.alura.com.br/](https://www.alura.com.br/)\n\nVocê pode procurar por cursos e formações na área de Inteligência Artificial ou usar a barra de pesquisa para encontrar algo específico sobre Google Gemini."
          },
          "metadata": {}
        }
      ]
    },
    {
      "cell_type": "code",
      "source": [
        "#Busca no goole, usa-se o tools (ferramenta) do google_search, porém eu poderia criar um agente que busque por exemplo no google hotels, maps, etc\n",
        "#Posso ter mais de um agente no mesmo projeto\n",
        "#Pode ser passado tudo pelo mesmo agente ou em agentes separados (Acho que deve ser o mesmo principio de codigo limpo em relação a metodos())\n",
        "#Varios agentes especializados, cada um com um prompt para retornar as respostas\n",
        "###Pergunta: Quais tipos de ferramentas posso utilizar? Posso buscar infos da onde além dessas do google?\n",
        "\n",
        "# Pergunta ao Gemini uma informação utilizando a busca do Google como contexto\n",
        "\n",
        "response = client.models.generate_content(\n",
        "    model=MODEL_ID,\n",
        "    contents='Quando é a próxima Imersão IA com Google Gemini da Alura?',\n",
        "\n",
        "    # Inserir a tool de busca do Google ###############################################\n",
        "    config = { \"tools\": [{\"google_search\": {}}]\n",
        "\n",
        "    }\n",
        ")\n",
        "\n",
        "# Exibe a resposta na tela\n",
        "display(Markdown(f\"Resposta:\\n {response.text}\"))"
      ],
      "metadata": {
        "id": "yXaZd7iZ4ftw",
        "colab": {
          "base_uri": "https://localhost:8080/",
          "height": 64
        },
        "outputId": "65cc6c1a-87a4-4b61-d2d1-619cf81f6187"
      },
      "execution_count": 50,
      "outputs": [
        {
          "output_type": "display_data",
          "data": {
            "text/plain": [
              "<IPython.core.display.Markdown object>"
            ],
            "text/markdown": "Resposta:\n A próxima Imersão IA com Google Gemini da Alura acontecerá entre os dias 12 e 16 de maio de 2025. As inscrições estão abertas até o dia 11 de maio e são totalmente gratuitas."
          },
          "metadata": {}
        }
      ]
    },
    {
      "cell_type": "code",
      "source": [
        "#Validação da resposta do google mostrando as fontes das respostas\n",
        "# Exibe a busca\n",
        "print(f\"Busca realizada: {response.candidates[0].grounding_metadata.web_search_queries}\")\n",
        "# Exibe as URLs nas quais ele se baseou\n",
        "print(f\"Páginas utilizadas na resposta: {', '.join([site.web.title for site in response.candidates[0].grounding_metadata.grounding_chunks])}\")\n",
        "print()\n",
        "display(HTML(response.candidates[0].grounding_metadata.search_entry_point.rendered_content))"
      ],
      "metadata": {
        "id": "xHSNlTd84heJ",
        "colab": {
          "base_uri": "https://localhost:8080/",
          "height": 117
        },
        "outputId": "30839f25-452d-4316-b91e-ab3ddb4cc11b"
      },
      "execution_count": 51,
      "outputs": [
        {
          "output_type": "stream",
          "name": "stdout",
          "text": [
            "Busca realizada: ['Alura Imersão IA com Google Gemini data']\n",
            "Páginas utilizadas na resposta: alura.com.br, tecmundo.com.br\n",
            "\n"
          ]
        },
        {
          "output_type": "display_data",
          "data": {
            "text/plain": [
              "<IPython.core.display.HTML object>"
            ],
            "text/html": [
              "<style>\n",
              ".container {\n",
              "  align-items: center;\n",
              "  border-radius: 8px;\n",
              "  display: flex;\n",
              "  font-family: Google Sans, Roboto, sans-serif;\n",
              "  font-size: 14px;\n",
              "  line-height: 20px;\n",
              "  padding: 8px 12px;\n",
              "}\n",
              ".chip {\n",
              "  display: inline-block;\n",
              "  border: solid 1px;\n",
              "  border-radius: 16px;\n",
              "  min-width: 14px;\n",
              "  padding: 5px 16px;\n",
              "  text-align: center;\n",
              "  user-select: none;\n",
              "  margin: 0 8px;\n",
              "  -webkit-tap-highlight-color: transparent;\n",
              "}\n",
              ".carousel {\n",
              "  overflow: auto;\n",
              "  scrollbar-width: none;\n",
              "  white-space: nowrap;\n",
              "  margin-right: -12px;\n",
              "}\n",
              ".headline {\n",
              "  display: flex;\n",
              "  margin-right: 4px;\n",
              "}\n",
              ".gradient-container {\n",
              "  position: relative;\n",
              "}\n",
              ".gradient {\n",
              "  position: absolute;\n",
              "  transform: translate(3px, -9px);\n",
              "  height: 36px;\n",
              "  width: 9px;\n",
              "}\n",
              "@media (prefers-color-scheme: light) {\n",
              "  .container {\n",
              "    background-color: #fafafa;\n",
              "    box-shadow: 0 0 0 1px #0000000f;\n",
              "  }\n",
              "  .headline-label {\n",
              "    color: #1f1f1f;\n",
              "  }\n",
              "  .chip {\n",
              "    background-color: #ffffff;\n",
              "    border-color: #d2d2d2;\n",
              "    color: #5e5e5e;\n",
              "    text-decoration: none;\n",
              "  }\n",
              "  .chip:hover {\n",
              "    background-color: #f2f2f2;\n",
              "  }\n",
              "  .chip:focus {\n",
              "    background-color: #f2f2f2;\n",
              "  }\n",
              "  .chip:active {\n",
              "    background-color: #d8d8d8;\n",
              "    border-color: #b6b6b6;\n",
              "  }\n",
              "  .logo-dark {\n",
              "    display: none;\n",
              "  }\n",
              "  .gradient {\n",
              "    background: linear-gradient(90deg, #fafafa 15%, #fafafa00 100%);\n",
              "  }\n",
              "}\n",
              "@media (prefers-color-scheme: dark) {\n",
              "  .container {\n",
              "    background-color: #1f1f1f;\n",
              "    box-shadow: 0 0 0 1px #ffffff26;\n",
              "  }\n",
              "  .headline-label {\n",
              "    color: #fff;\n",
              "  }\n",
              "  .chip {\n",
              "    background-color: #2c2c2c;\n",
              "    border-color: #3c4043;\n",
              "    color: #fff;\n",
              "    text-decoration: none;\n",
              "  }\n",
              "  .chip:hover {\n",
              "    background-color: #353536;\n",
              "  }\n",
              "  .chip:focus {\n",
              "    background-color: #353536;\n",
              "  }\n",
              "  .chip:active {\n",
              "    background-color: #464849;\n",
              "    border-color: #53575b;\n",
              "  }\n",
              "  .logo-light {\n",
              "    display: none;\n",
              "  }\n",
              "  .gradient {\n",
              "    background: linear-gradient(90deg, #1f1f1f 15%, #1f1f1f00 100%);\n",
              "  }\n",
              "}\n",
              "</style>\n",
              "<div class=\"container\">\n",
              "  <div class=\"headline\">\n",
              "    <svg class=\"logo-light\" width=\"18\" height=\"18\" viewBox=\"9 9 35 35\" fill=\"none\" xmlns=\"http://www.w3.org/2000/svg\">\n",
              "      <path fill-rule=\"evenodd\" clip-rule=\"evenodd\" d=\"M42.8622 27.0064C42.8622 25.7839 42.7525 24.6084 42.5487 23.4799H26.3109V30.1568H35.5897C35.1821 32.3041 33.9596 34.1222 32.1258 35.3448V39.6864H37.7213C40.9814 36.677 42.8622 32.2571 42.8622 27.0064V27.0064Z\" fill=\"#4285F4\"/>\n",
              "      <path fill-rule=\"evenodd\" clip-rule=\"evenodd\" d=\"M26.3109 43.8555C30.9659 43.8555 34.8687 42.3195 37.7213 39.6863L32.1258 35.3447C30.5898 36.3792 28.6306 37.0061 26.3109 37.0061C21.8282 37.0061 18.0195 33.9811 16.6559 29.906H10.9194V34.3573C13.7563 39.9841 19.5712 43.8555 26.3109 43.8555V43.8555Z\" fill=\"#34A853\"/>\n",
              "      <path fill-rule=\"evenodd\" clip-rule=\"evenodd\" d=\"M16.6559 29.8904C16.3111 28.8559 16.1074 27.7588 16.1074 26.6146C16.1074 25.4704 16.3111 24.3733 16.6559 23.3388V18.8875H10.9194C9.74388 21.2072 9.06992 23.8247 9.06992 26.6146C9.06992 29.4045 9.74388 32.022 10.9194 34.3417L15.3864 30.8621L16.6559 29.8904V29.8904Z\" fill=\"#FBBC05\"/>\n",
              "      <path fill-rule=\"evenodd\" clip-rule=\"evenodd\" d=\"M26.3109 16.2386C28.85 16.2386 31.107 17.1164 32.9095 18.8091L37.8466 13.8719C34.853 11.082 30.9659 9.3736 26.3109 9.3736C19.5712 9.3736 13.7563 13.245 10.9194 18.8875L16.6559 23.3388C18.0195 19.2636 21.8282 16.2386 26.3109 16.2386V16.2386Z\" fill=\"#EA4335\"/>\n",
              "    </svg>\n",
              "    <svg class=\"logo-dark\" width=\"18\" height=\"18\" viewBox=\"0 0 48 48\" xmlns=\"http://www.w3.org/2000/svg\">\n",
              "      <circle cx=\"24\" cy=\"23\" fill=\"#FFF\" r=\"22\"/>\n",
              "      <path d=\"M33.76 34.26c2.75-2.56 4.49-6.37 4.49-11.26 0-.89-.08-1.84-.29-3H24.01v5.99h8.03c-.4 2.02-1.5 3.56-3.07 4.56v.75l3.91 2.97h.88z\" fill=\"#4285F4\"/>\n",
              "      <path d=\"M15.58 25.77A8.845 8.845 0 0 0 24 31.86c1.92 0 3.62-.46 4.97-1.31l4.79 3.71C31.14 36.7 27.65 38 24 38c-5.93 0-11.01-3.4-13.45-8.36l.17-1.01 4.06-2.85h.8z\" fill=\"#34A853\"/>\n",
              "      <path d=\"M15.59 20.21a8.864 8.864 0 0 0 0 5.58l-5.03 3.86c-.98-2-1.53-4.25-1.53-6.64 0-2.39.55-4.64 1.53-6.64l1-.22 3.81 2.98.22 1.08z\" fill=\"#FBBC05\"/>\n",
              "      <path d=\"M24 14.14c2.11 0 4.02.75 5.52 1.98l4.36-4.36C31.22 9.43 27.81 8 24 8c-5.93 0-11.01 3.4-13.45 8.36l5.03 3.85A8.86 8.86 0 0 1 24 14.14z\" fill=\"#EA4335\"/>\n",
              "    </svg>\n",
              "    <div class=\"gradient-container\"><div class=\"gradient\"></div></div>\n",
              "  </div>\n",
              "  <div class=\"carousel\">\n",
              "    <a class=\"chip\" href=\"https://vertexaisearch.cloud.google.com/grounding-api-redirect/AbF9wXEKZQ-k6cNKzZQzMaIKGK8LWvmKMF4816n_uwlfUPK82wDtlQddXrk-npyF70XhuqIUMnsLc3LUgyvUN0VDBSicYFU-rn3LZj_yGuMMtVe-kvT5udiOZqHDGmXy2FUF7rk0aK_5t49sfuX5ujG1H1wmJz5PExriOD3pand4eJqUZB5gDaiXjefC9EOe2_bVebSWye3K10qIpzQVxLje0QzkLSVasXj8PKxNOWP2pQu0\">Alura Imersão IA com Google Gemini data</a>\n",
              "  </div>\n",
              "</div>\n"
            ]
          },
          "metadata": {}
        }
      ]
    },
    {
      "cell_type": "code",
      "source": [
        "#O que é um agente? Cada um tem sua opnião mas de uma forma abstrata um agente cria uma esteira de ações onde só é necessário escrever o código uma vez\n",
        "#O Agente permite programar para rodar as etapas na ordem correta de maneira organizada e automatizada\n",
        "#A criação de uma gente é como estrutura as etapas usando alguma ferramenta que simplifique o processo para que não precise ser feito de maneira manual\n",
        "#Cada agente depende da execução do agente anterior. Cada agente é como se fosse uma etapa\n",
        "#Para isso que se utiliza um framework, para simoplicar o processo\n",
        "#\n",
        "# Instalar Framework ADK de agentes do Google ################################################\n",
        "!pip install -q google-adk\n",
        "\n"
      ],
      "metadata": {
        "id": "hvZ3UnPI4jhJ"
      },
      "execution_count": 52,
      "outputs": []
    },
    {
      "cell_type": "code",
      "execution_count": 53,
      "metadata": {
        "id": "aePV2bdfDeoW"
      },
      "outputs": [],
      "source": [
        "##24:36 imersao Alura\n",
        "from google.adk.agents import Agent ##abstração de um objeto de agente\n",
        "from google.adk.runners import Runner ##Orquestrador que roda tudo\n",
        "from google.adk.sessions import InMemorySessionService #Memoria interna do orquestrador\n",
        "from google.adk.tools import google_search #tool importada\n",
        "from google.genai import types  # Para criar conteúdos (Content e Part)\n",
        "from datetime import date\n",
        "##Para formatar saída\n",
        "import textwrap # Para formatar melhor a saída de texto\n",
        "from IPython.display import display, Markdown # Para exibir texto formatado no Colab\n",
        "import requests # Para fazer requisições HTTP\n",
        "import warnings\n",
        "\n",
        "warnings.filterwarnings(\"ignore\")"
      ]
    },
    {
      "cell_type": "code",
      "source": [
        "#Essa função será a que controlará os agentes\n",
        "#A gente manda o agente a ser utilizado pra ca e essa função roda tudo que for necessario\n",
        "# Função auxiliar que envia uma mensagem para um agente via Runner e retorna a resposta final\n",
        "\n",
        "#A Função recebe o agente e o prompt como parametros\n",
        "def call_agent(agent: Agent, message_text: str) -> str:\n",
        "    # Cria um serviço de sessão em memória\n",
        "    session_service = InMemorySessionService()\n",
        "    # Cria uma nova sessão (você pode personalizar os IDs conforme necessário)\n",
        "    session = session_service.create_session(app_name=agent.name, user_id=\"user1\", session_id=\"session1\")\n",
        "    # Cria um Runner para o agente\n",
        "    runner = Runner(agent=agent, app_name=agent.name, session_service=session_service)\n",
        "    # Cria o conteúdo da mensagem de entrada\n",
        "    content = types.Content(role=\"user\", parts=[types.Part(text=message_text)])\n",
        "\n",
        "    final_response = \"\"\n",
        "    # Itera assincronamente pelos eventos retornados durante a execução do agente\n",
        "    for event in runner.run(user_id=\"user1\", session_id=\"session1\", new_message=content):\n",
        "        if event.is_final_response():\n",
        "          for part in event.content.parts:\n",
        "            if part.text is not None:\n",
        "              final_response += part.text\n",
        "              final_response += \"\\n\"\n",
        "    return final_response"
      ],
      "metadata": {
        "id": "_xP4lWhsS5ko"
      },
      "execution_count": 54,
      "outputs": []
    },
    {
      "cell_type": "code",
      "source": [
        "# Função auxiliar para exibir texto formatado em Markdown no Colab\n",
        "\n",
        "def to_markdown(text):\n",
        "  text = text.replace('•', '  *')\n",
        "  return Markdown(textwrap.indent(text, '> ', predicate=lambda _: True))"
      ],
      "metadata": {
        "id": "8dosiodaxfFR"
      },
      "execution_count": 55,
      "outputs": []
    },
    {
      "cell_type": "code",
      "source": [
        "##########################################\n",
        "# --- Agente 1: Buscador de Notícias --- #\n",
        "##########################################\n",
        "\n",
        "#Esse primeiro agente busca no google as notícias  sobre acontecimentos do último mês e passa para o segundo agente que é o PLANEJADOR\n",
        "\n",
        "def agente_buscador(topico, data_de_hoje):\n",
        "  #esse Agent() está sendo importado no primeiro bloco de código\n",
        "    buscador = Agent(\n",
        "        name=\"agente_buscador\",\n",
        "        model=\"gemini-2.0-flash\",\n",
        "\n",
        "        #Parâmetro opcional de documentação. É uma descrição para facilitar o entendimento do que esse agente faz quando outra pessoa for usar o código\n",
        "        description = \"Agente Buscador de informações no Google\",\n",
        "\n",
        "        #Chamar a ferramenta de busca (pega do import do google_search)\n",
        "        tools = [google_search],\n",
        "\n",
        "        #Calibrar como a IA vai responder\n",
        "        instruction = \"\"\"Você é um assistente de pesquisa. A sua tarefa é usar a ferramenta de busca do goole (google_search)\n",
        "        para recuperar as últimas notícias de lançamentos muito relçevantes sobre o tópico abaixo.\n",
        "        Foque em no máximo 5 lançamanetos relevantes, com base na quantidade e entusiasmo das notícias sobre ele.\n",
        "        Se um tema tiver poucas notícias ou reações entusiasmadas, é possível que ele não seja tão relevante assim e pode ser substituído por outro que tenha mais.\n",
        "        Esses lançamentos devem ser atuais, de no máximo um mês antes da data de hoje.\"\"\"\n",
        "        )\n",
        "    entrada_do_agente_buscador = f\"Tópico: {topico}\\nData de hoje: {data_de_hoje}\"\n",
        "\n",
        "    # Executa o agente atraves da função call_agent() criada acima\n",
        "    lancamentos_buscados = call_agent(buscador, entrada_do_agente_buscador)\n",
        "    return lancamentos_buscados\n",
        ""
      ],
      "metadata": {
        "id": "o8bqIfi_DyH8"
      },
      "execution_count": 56,
      "outputs": []
    },
    {
      "cell_type": "code",
      "source": [
        "################################################\n",
        "# --- Agente 2: Planejador de posts --- #\n",
        "################################################\n",
        "\n",
        "#Esse segundo agente recebe as notícias que o primeiro agente buscou\n",
        "#Ele busca no google mais detalhes sobre essas notícias de acordo com o prompt passado\n",
        "#Depois o planejamento é passado para o terceiro agente, que é o REDATOR\n",
        "\n",
        "def agente_planejador(topico, lancamentos_buscados):\n",
        "    planejador = Agent(\n",
        "        name=\"agente_planejador\",\n",
        "        model=\"gemini-2.0-flash\",\n",
        "\n",
        "        # Inserir as instruções do Agente Planejador #################################################\n",
        "        tools=[google_search],\n",
        "        description=\"Agente Planejador que detalha as informações recebidas do agente buscador\",\n",
        "        instruction=\"\"\"Você é um planejador de conteúdo, especialista em redes sociais.\n",
        "        Com base na lista de lançamentos mais recentes e relevantes buscados, você deve:\n",
        "        usar a ferramenta de busca do Google(google_search) para criar um plano sobre\n",
        "        quais são os pontos mais relevantes que poderíamos abordar em um post sobre cada um deles.\n",
        "        Você também pode usar o google_search para para encontrar mais informações sobre os temas e se aprofundar.\n",
        "        Ao final você irá escolher o tema mais relevante, e um plano com os assuntos a serem abordados no post que será escrito posteriormente.\n",
        "        \"\"\",\n",
        "    )\n",
        "\n",
        "    entrada_do_agente_planejador = f\"Tópico:{topico}\\nLançamentos buscados: {lancamentos_buscados}\"\n",
        "    # Executa o agente\n",
        "    plano_do_post = call_agent(planejador, entrada_do_agente_planejador)\n",
        "    return plano_do_post"
      ],
      "metadata": {
        "id": "y3VO1uo5_ghO"
      },
      "execution_count": 57,
      "outputs": []
    },
    {
      "cell_type": "code",
      "source": [
        "######################################\n",
        "# --- Agente 3: Redator do Post --- #\n",
        "######################################\n",
        "\n",
        "#Esse terceiro agente recebe o planejamento do segundo agente e cria o post de acordo com o prompt passado\n",
        "#Depois o post gerado é passado para o quarto agente, o REVISOR\n",
        "\n",
        "def agente_redator(topico, plano_de_post):\n",
        "    redator = Agent(\n",
        "        name=\"agente_redator\",\n",
        "        model=\"gemini-2.0-flash\",\n",
        "        description=\"Agente Redator de posts engajadores para Instagram\",\n",
        "        instruction=\"\"\"\n",
        "            Você é um Redator Criativo especializado em criar posts virais para redes sociais.\n",
        "            Você escreve posts para a empresa Alura, a maior escola online de tecnologia do Brasil.\n",
        "            Utilize o tema fornecido no plano de post e os pontos mais relevantes fornecidos e, com base nisso,\n",
        "            escreva um rascunho de post para Instagram sobre o tema indicado.\n",
        "            O post deve ser engajador, informativo, com linguagem simples e incluir 2 a 4 hashtags no final.\n",
        "            \"\"\"\n",
        "            )\n",
        "    entrada_do_agente_redator = f\"Tópico: {topico}\\nPlano de post: {plano_de_post}\"\n",
        "    # Executa o agente\n",
        "    rascunho = call_agent(redator, entrada_do_agente_redator)\n",
        "    return rascunho"
      ],
      "metadata": {
        "id": "uOqlg2TRLVh1"
      },
      "execution_count": 63,
      "outputs": []
    },
    {
      "cell_type": "code",
      "source": [
        "##########################################\n",
        "# --- Agente 4: Revisor de Qualidade --- #\n",
        "##########################################\n",
        "\n",
        "#Esse quarto agente recebe o texto do terceiro, faz uma revisão de acordo com o prompt passado para criar o post\n",
        "#Depois de revisado, o post criado é enviado para o leitor\n",
        "\n",
        "def agente_revisor(topico, rascunho_gerado):\n",
        "    revisor = Agent(\n",
        "        name=\"agente_revisor\",\n",
        "        model=\"gemini-2.0-flash\",\n",
        "          description=\"Agente revisor de post para redes sociais.\",\n",
        "        instruction=\"\"\"\n",
        "            Você é um Editor e Revisor de Conteúdo meticuloso, especializado em posts para redes sociais, com foco no Instagram.\n",
        "            Por ter um público jovem, entre 18 e 30 anos, use um tom de escrita adequado.\n",
        "            Revise o rascunho de post de Instagram abaixo sobre o tópico indicado, verificando clareza, concisão, correção e tom.\n",
        "            Se o rascunho estiver bom, responda apenas 'O rascunho está ótimo e pronto para publicar!'.\n",
        "            Caso haja problemas, aponte-os e sugira melhorias.\n",
        "            \"\"\"\n",
        "    )\n",
        "    entrada_do_agente_revisor = f\"Tópico: {topico}\\nRascunho: {rascunho_gerado}\"\n",
        "    # Executa o agente\n",
        "    texto_revisado = call_agent(revisor, entrada_do_agente_revisor)\n",
        "    return texto_revisado"
      ],
      "metadata": {
        "id": "_aTb1SdkLeT6"
      },
      "execution_count": 66,
      "outputs": []
    },
    {
      "cell_type": "code",
      "source": [
        "data_de_hoje = date.today().strftime(\"%d/%m/%Y\")\n",
        "\n",
        "print(\"🚀 Iniciando o Sistema de Criação de Posts para Instagram com 4 Agentes 🚀\")\n",
        "\n",
        "# --- Obter o Tópico do Usuário ---\n",
        "topico = input(\"❓ Por favor, digite o TÓPICO sobre o qual você quer criar o post de tendências: \")\n",
        "\n",
        "# Inserir lógica do sistema de agentes ################################################\n",
        "\n",
        "if not topico:\n",
        "  print(\"Você não digitou o tópico\")\n",
        "else:\n",
        "     print(f\"Maravilha!! Vamos então criar o post sobre novidades em {topico}\")\n",
        "\n",
        "     lancamentos_buscados = agente_buscador(topico, data_de_hoje)\n",
        "     print(\"\\n -- Resultado do Agente Um (Buscador) --\\n\")\n",
        "     display(to_markdown(lancamentos_buscados))\n",
        "     print(\"----------------------------------------------------------------------------------------------------\")\n",
        "\n",
        "     plano_de_post = agente_planejador(topico, lancamentos_buscados)\n",
        "     print(\"\\n -- Resultado do Agente Dois (Planejador) --\\n\")\n",
        "     display(to_markdown(plano_de_post))\n",
        "     print(\"----------------------------------------------------------------------------------------------------\")\n",
        "\n",
        "     rascunho_gerado = agente_redator(topico, plano_de_post)\n",
        "     print(\"\\n -- Resultado do Agente Três (Redator) --\\n\")\n",
        "     display(to_markdown(rascunho_gerado))\n",
        "     print(\"----------------------------------------------------------------------------------------------------\")\n",
        "\n",
        "     texto_revisado = agente_revisor(topico,rascunho_gerado)\n",
        "     print(\"\\n -- Resultado do Agente Quatro (Revisor) --\\n\")\n",
        "     display(to_markdown(texto_revisado))\n",
        "     print(\"----------------------------------------------------------------------------------------------------\")\n",
        "\n",
        "\n",
        "\n",
        "\n",
        "\n"
      ],
      "metadata": {
        "id": "630ummxz4myx",
        "colab": {
          "base_uri": "https://localhost:8080/",
          "height": 1000
        },
        "collapsed": true,
        "outputId": "18f6bb6e-8b6e-451a-e61c-aca20b5d6eee"
      },
      "execution_count": 68,
      "outputs": [
        {
          "output_type": "stream",
          "name": "stdout",
          "text": [
            "🚀 Iniciando o Sistema de Criação de Posts para Instagram com 4 Agentes 🚀\n",
            "❓ Por favor, digite o TÓPICO sobre o qual você quer criar o post de tendências: agentes de IA\n",
            "Maravilha!! Vamos então criar o post sobre novidades em agentes de IA\n",
            "\n",
            " -- Resultado do Agente Um (Buscador) --\n",
            "\n"
          ]
        },
        {
          "output_type": "display_data",
          "data": {
            "text/plain": [
              "<IPython.core.display.Markdown object>"
            ],
            "text/markdown": "> Para encontrar os lançamentos mais relevantes e recentes sobre agentes de IA, vou usar o Google para pesquisar notícias e artigos sobre o tema. Procurarei por lançamentos que geraram entusiasmo e cobertura notável na mídia, focando nos últimos meses.\n> \n> \n> Com base nas notícias mais recentes sobre agentes de IA, aqui estão alguns lançamentos e tendências relevantes, com foco nos últimos meses (considerando a data de hoje, 18 de maio de 2025):\n> \n> 1.  **Adoção e Integração Empresarial de Agentes de IA:**\n>     *   Muitas empresas estão implementando agentes de IA para melhorar a tomada de decisões e criar operações mais inteligentes e ágeis. A Forrester prevê que 50% das empresas adotarão esses recursos até o final de 2025 \\[1].\n>     *   Empresas como IBM, Anthropic, Amazon, Google e OpenAI estão lançando atualizações e ferramentas para integrar agentes de IA em diversos setores, desde RH e vendas até compras \\[3].\n>     *   A IBM anunciou atualizações no watsonx Orchestrate, facilitando a integração e customização de agentes com mais de 80 aplicações empresariais \\[3].\n> \n> 2.  **Agentes de IA como Força de Trabalho Digital:**\n>     *   A Nvidia revelou o AI-Q Blueprint, visando transformar sistemas de agentes de IA em forças de trabalho digitais \\[10].\n>     *   A B3 (Bolsa de Valores Brasileira) está adotando agentes de IA para revolucionar suas operações em 2025 \\[12].\n> \n> 3.  **Capacidades Aprimoradas e Autonomia:**\n>     *   Agentes de IA estão evoluindo para além da IA generativa, focando na ação e execução de tarefas de forma autônoma e autodirigida, sem instruções explícitas \\[2].\n>     *   Eles combinam maior poder de síntese de dados e capacidades de tomada de decisão, executando tarefas a partir de listas de etapas de forma independente \\[2].\n>     *   Modelos como o \"computer use\" da Anthropic (uma extensão do Claude) permitem que agentes usem computadores de maneira semelhante a humanos, manipulando o cursor, clicando em botões e digitando texto \\[6].\n> \n> 4.  **Integração com Ferramentas e Plataformas Existentes:**\n>     *   Agentes de IA estão se tornando mais acessíveis e integrados aos ambientes onde as pessoas trabalham, com a expectativa de que os custos de API caiam drasticamente \\[4].\n>     *   A OpenAI integrou o ChatGPT com o WhatsApp, permitindo que usuários façam perguntas diretamente ao assistente e recebam respostas com base em buscas em tempo real na internet \\[4].\n> \n> 5.  **Desafios e Considerações:**\n>     *   Há um debate sobre o que realmente constitui um \"agente de IA\", com alguns especialistas argumentando que muitas soluções rotuladas como tal são apenas respostas prontas disfarçadas de assistentes digitais \\[11].\n>     *   Questões como privacidade de dados, regulamentação e impacto no mercado de trabalho exigem um debate amplo para garantir que o avanço tecnológico seja inclusivo e sustentável \\[5].\n>     *   A Microsoft enfatiza que a supervisão humana continuará sendo crucial na evolução dos agentes de IA para garantir a segurança e a responsabilidade \\[16].\n> \n> Esses lançamentos e tendências destacam a crescente importância dos agentes de IA em diversos setores, com um foco em automação, eficiência e capacidades aprimoradas. No entanto, também ressaltam a necessidade de abordar os desafios e considerações éticas associadas a essa tecnologia em rápida evolução.\n> \n"
          },
          "metadata": {}
        },
        {
          "output_type": "stream",
          "name": "stdout",
          "text": [
            "----------------------------------------------------------------------------------------------------\n",
            "\n",
            " -- Resultado do Agente Dois (Planejador) --\n",
            "\n"
          ]
        },
        {
          "output_type": "display_data",
          "data": {
            "text/plain": [
              "<IPython.core.display.Markdown object>"
            ],
            "text/markdown": "> Com base nos lançamentos e tendências sobre agentes de IA, podemos criar posts focados nos seguintes pontos:\n> \n> **1. Adoção Empresarial:**\n> \n> *   **Assuntos para o Post:**\n>     *   Crescente adoção de agentes de IA em empresas.\n>     *   Como agentes de IA estão melhorando a tomada de decisões e agilidade.\n>     *   Exemplos de empresas (IBM, Anthropic, Amazon, Google, OpenAI) e suas soluções.\n>     *   Detalhes sobre atualizações como o watsonx Orchestrate da IBM.\n> *   **Possível Título:** \"Agentes de IA: A Revolução na Tomada de Decisões Empresariais em 2025\"\n> \n> **2. Agentes de IA como Força de Trabalho Digital:**\n> \n> *   **Assuntos para o Post:**\n>     *   Conceito de agentes de IA como força de trabalho digital.\n>     *   AI-Q Blueprint da Nvidia e seu impacto.\n>     *   Adoção de agentes de IA pela B3 (Bolsa de Valores Brasileira).\n>     *   Exemplos de tarefas que esses agentes podem realizar.\n> *   **Possível Título:** \"A Força de Trabalho do Futuro: Como Agentes de IA Estão Transformando as Empresas\"\n> \n> **3. Capacidades Aprimoradas e Autonomia:**\n> \n> *   **Assuntos para o Post:**\n>     *   Evolução dos agentes de IA além da IA generativa.\n>     *   Foco na autonomia e execução de tarefas sem instruções explícitas.\n>     *   Combinação de síntese de dados e tomada de decisão.\n>     *   Exemplos como o modelo \"computer use\" da Anthropic (Claude).\n> *   **Possível Título:** \"Agentes de IA Autônomos: A Próxima Fronteira da Inteligência Artificial\"\n> \n> **4. Integração e Acessibilidade:**\n> \n> *   **Assuntos para o Post:**\n>     *   Facilidade de integração de agentes de IA com ferramentas existentes.\n>     *   Expectativa de queda nos custos de API.\n>     *   Integração do ChatGPT com o WhatsApp como exemplo de acessibilidade.\n>     *   Como a integração facilita o uso diário dos agentes de IA.\n> *   **Possível Título:** \"Agentes de IA ao Seu Alcance: Integração e Acessibilidade para Todos\"\n> \n> **5. Desafios e Considerações Éticas:**\n> \n> *   **Assuntos para o Post:**\n>     *   Debate sobre o que realmente define um \"agente de IA\".\n>     *   Questões de privacidade de dados e regulamentação.\n>     *   Impacto no mercado de trabalho.\n>     *   Importância da supervisão humana (ênfase da Microsoft).\n> *   **Possível Título:** \"Agentes de IA: Navegando pelos Desafios Éticos e Garantindo um Futuro Inclusivo\"\n> \n> **Plano Detalhado para o Tópico Mais Relevante: Capacidades Aprimoradas e Autonomia**\n> \n> Este tópico é o mais interessante pois aborda a evolução dos agentes de IA para além das capacidades generativas, focando na autonomia e ação.\n> \n> *   **Título:** Agentes de IA Autônomos: A Próxima Fronteira da Inteligência Artificial\n> \n> *   **Assuntos a serem Abordados no Post:**\n>     1.  **Introdução:**\n>         *   O que são agentes de IA e por que eles são importantes.\n>         *   A rápida evolução dos agentes de IA nos últimos anos.\n>     2.  **A Evolução Além da IA Generativa:**\n>         *   Explicação de como os agentes de IA estão indo além da simples geração de texto ou imagens.\n>         *   Foco na capacidade de agir e executar tarefas.\n>     3.  **Autonomia e Execução de Tarefas:**\n>         *   Como os agentes de IA podem operar sem instruções explícitas.\n>         *   Exemplos de tarefas que eles podem realizar de forma autônoma.\n>     4.  **Capacidades Aprimoradas:**\n>         *   Discussão sobre a combinação de síntese de dados e tomada de decisão.\n>         *   Como os agentes de IA analisam grandes quantidades de dados para tomar decisões informadas.\n>     5.  **Exemplo Prático: Modelo \"Computer Use\" da Anthropic:**\n>         *   Detalhes sobre o modelo \"computer use\" e como ele permite que agentes usem computadores de maneira semelhante a humanos.\n>         *   Exemplos de ações que o agente pode realizar (manipular o cursor, clicar em botões, digitar texto).\n>     6.  **Impacto e Aplicações Futuras:**\n>         *   Como a autonomia dos agentes de IA pode transformar diversos setores.\n>         *   Exemplos de aplicações em áreas como saúde, finanças e manufatura.\n>     7.  **Desafios e Considerações:**\n>         *   Breve discussão sobre os desafios e considerações éticas relacionados à autonomia dos agentes de IA.\n>         *   Importância de garantir que esses agentes sejam usados de forma responsável e segura.\n>     8.  **Conclusão:**\n>         *   Reafirmação da importância dos agentes de IA autônomos e seu potencial para o futuro.\n>         *   Chamada para ação (ex: acompanhar as novidades, explorar as aplicações).\n> \n> Com este plano, podemos criar um post informativo e envolvente que destaque a próxima fronteira da inteligência artificial: os agentes de IA autônomos.\n> \n"
          },
          "metadata": {}
        },
        {
          "output_type": "stream",
          "name": "stdout",
          "text": [
            "----------------------------------------------------------------------------------------------------\n",
            "\n",
            " -- Resultado do Agente Três (Redator) --\n",
            "\n"
          ]
        },
        {
          "output_type": "display_data",
          "data": {
            "text/plain": [
              "<IPython.core.display.Markdown object>"
            ],
            "text/markdown": "> 🚀🤖 **Agentes de IA Autônomos: A Próxima Fronteira da Inteligência Artificial!** 🤖🚀\n> \n> Já ouviu falar em agentes de IA? Eles são a evolução da inteligência artificial que vai além da simples geração de texto e imagens! 🤯\n> \n> Nos últimos anos, eles têm evoluído rapidamente, ganhando a capacidade de **agir** e **executar tarefas** de forma autônoma, sem precisar de instruções a cada passo. 😮\n> \n> ✨ **O que eles fazem?**\n> Imagine um agente de IA que analisa dados, toma decisões e executa ações como um humano faria, mas com a velocidade e a precisão de uma máquina. É isso que eles fazem!\n> \n> 💻 **Exemplo prático:**\n> A Anthropic criou um modelo chamado \"computer use\" que permite que seus agentes usem computadores como nós: movem o cursor, clicam em botões e digitam textos! 🤯\n> \n> 💼 **Onde isso impacta?**\n> Saúde, finanças, manufatura... A autonomia dos agentes de IA tem o poder de transformar diversos setores!\n> \n> 🤔 **E os desafios?**\n> Claro, existem desafios e considerações éticas importantes, mas o potencial é incrível.\n> \n> Ficou curioso? 🤔 Acompanhe as novidades e explore as aplicações dos agentes de IA. O futuro da tecnologia já começou! 😉\n> \n> #InteligenciaArtificial #AgentesDeIA #Inovação #Alura\n> \n"
          },
          "metadata": {}
        },
        {
          "output_type": "stream",
          "name": "stdout",
          "text": [
            "----------------------------------------------------------------------------------------------------\n",
            "\n",
            " -- Resultado do Agente Quatro (Revisor) --\n",
            "\n"
          ]
        },
        {
          "output_type": "display_data",
          "data": {
            "text/plain": [
              "<IPython.core.display.Markdown object>"
            ],
            "text/markdown": "> O rascunho está bom, mas podemos deixá-lo ainda mais interessante para o público do Instagram. Aqui estão algumas sugestões:\n> \n> *   **Emojis:** Use emojis de forma mais estratégica para quebrar o texto e destacar informações importantes. Por exemplo, ao invés de usar vários emojis no título, use um ou dois que realmente chamem a atenção.\n> *   **Linguagem:** Adapte a linguagem para ser mais direta e envolvente, como se estivesse conversando com um amigo. Evite termos muito técnicos ou jargões que possam confundir o público.\n> *   **Chamada para ação (CTA):** Inclua uma chamada para ação mais clara, incentivando os seguidores a interagir.\n> \n> **Sugestão de Rascunho Revisado:**\n> \n> 🚀🤖 **Agentes de IA: Prontos para Dominar o Mundo (do Trabalho)?** 🤖\n> \n> Já imaginou uma IA que faz tudo sozinha, sem você ter que dar cada passo? 🤯 É disso que se tratam os agentes de IA!\n> \n> Eles aprenderam a **agir** e **executar tarefas** sozinhos. Tipo, sem precisar de você mandando! 😮\n> \n> **Na prática:**\n> \n> Eles analisam dados, tomam decisões e fazem acontecer! Tipo um humano, só que 1000x mais rápido. 💻\n> \n> A Anthropic criou um agente que usa o computador como a gente: mexe o mouse, clica e digita! Surreal, né? 🤯\n> \n> **Onde isso muda tudo?**\n> \n> Na saúde, nas finanças, nas fábricas... Eles vão dar um jeito de otimizar tudo! 💼\n> \n> **E os desafios?**\n> \n> Ainda estamos entendendo como controlar essa galera, mas o potencial é GIGANTE. 🤔\n> \n> Curtiu a ideia? Deixe um comentário com a sua opinião! 👇\n> \n> #InteligenciaArtificial #AgentesDeIA #Inovação #Alura #futuro\n"
          },
          "metadata": {}
        },
        {
          "output_type": "stream",
          "name": "stdout",
          "text": [
            "----------------------------------------------------------------------------------------------------\n"
          ]
        }
      ]
    },
    {
      "cell_type": "code",
      "source": [],
      "metadata": {
        "id": "px5YETu_c10Z"
      },
      "execution_count": null,
      "outputs": []
    }
  ]
}